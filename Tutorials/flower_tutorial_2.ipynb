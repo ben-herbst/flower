{
 "cells": [
  {
   "cell_type": "markdown",
   "id": "0a375316-074e-49ed-a660-16727f3ea3da",
   "metadata": {},
   "source": [
    "# Flower tutorial\n",
    "## Strategies in federated learning\n",
    "\n",
    "Let’s move beyond FedAvg with Flower Strategies!\n",
    "\n",
    "In this notebook, we see how we can gradually enhance our system by customizing the strategy, initializing parameters on the server side, choosing a different strategy, and evaluating models on the server-side. That’s quite a bit of flexibility with so little code, right?\n",
    "\n",
    "In the later sections, we see how we can communicate arbitrary values between server and clients to fully customize client-side execution. With that capability, we built a large-scale Federated Learning simulation using the Flower Virtual Client Engine and ran an experiment involving 1000 clients in the same workload - all in a Jupyter Notebook!\n",
    "\n",
    "[tutorial link](https://flower.dev/docs/tutorial/Flower-2-Strategies-in-FL-PyTorch.html)"
   ]
  },
  {
   "cell_type": "code",
   "execution_count": 1,
   "id": "b2519d48-9382-44ef-b3c6-b92626d553bd",
   "metadata": {
    "tags": []
   },
   "outputs": [
    {
     "name": "stdout",
     "output_type": "stream",
     "text": [
      "Training on cpu using PyTorch 2.0.0 and Flower 1.5.0.dev20230427\n"
     ]
    }
   ],
   "source": [
    "from collections import OrderedDict\n",
    "from typing import Dict, List, Optional, Tuple\n",
    "\n",
    "import numpy as np\n",
    "import torch\n",
    "import torch.nn as nn\n",
    "import torch.nn.functional as F\n",
    "import torchvision.transforms as transforms\n",
    "from torch.utils.data import DataLoader, random_split\n",
    "from torchvision.datasets import CIFAR10\n",
    "\n",
    "import flwr as fl\n",
    "\n",
    "DEVICE = torch.device(\"cpu\")  # Try \"cuda\" to train on GPU\n",
    "print(\n",
    "    f\"Training on {DEVICE} using PyTorch {torch.__version__} and Flower {fl.__version__}\"\n",
    ")"
   ]
  },
  {
   "cell_type": "markdown",
   "id": "2f1f70e9-3b8c-412a-9f71-06092259fda0",
   "metadata": {},
   "source": [
    "# Data loading\n",
    "Let’s now load the CIFAR-10 training and test set, partition them into ten smaller datasets (each split into training and validation set), and wrap everything in their own DataLoader. We introduce a new parameter num_clients which allows us to call load_datasets with different numbers of clients."
   ]
  },
  {
   "cell_type": "code",
   "execution_count": 2,
   "id": "5dee391c-7a9c-4005-a5e6-a7015974662f",
   "metadata": {},
   "outputs": [
    {
     "name": "stdout",
     "output_type": "stream",
     "text": [
      "Files already downloaded and verified\n",
      "Files already downloaded and verified\n"
     ]
    }
   ],
   "source": [
    "NUM_CLIENTS = 10\n",
    "\n",
    "\n",
    "def load_datasets(num_clients: int):\n",
    "    # Download and transform CIFAR-10 (train and test)\n",
    "    transform = transforms.Compose(\n",
    "        [transforms.ToTensor(), transforms.Normalize((0.5, 0.5, 0.5), (0.5, 0.5, 0.5))]\n",
    "    )\n",
    "    trainset = CIFAR10(\"./dataset\", train=True, download=True, transform=transform)\n",
    "    testset = CIFAR10(\"./dataset\", train=False, download=True, transform=transform)\n",
    "\n",
    "    # Split training set into `num_clients` partitions to simulate different local datasets\n",
    "    partition_size = len(trainset) // num_clients\n",
    "    lengths = [partition_size] * num_clients\n",
    "    datasets = random_split(trainset, lengths, torch.Generator().manual_seed(42))\n",
    "\n",
    "    # Split each partition into train/val and create DataLoader\n",
    "    trainloaders = []\n",
    "    valloaders = []\n",
    "    for ds in datasets:\n",
    "        len_val = len(ds) // 10  # 10 % validation set\n",
    "        len_train = len(ds) - len_val\n",
    "        lengths = [len_train, len_val]\n",
    "        ds_train, ds_val = random_split(ds, lengths, torch.Generator().manual_seed(42))\n",
    "        trainloaders.append(DataLoader(ds_train, batch_size=32, shuffle=True))\n",
    "        valloaders.append(DataLoader(ds_val, batch_size=32))\n",
    "    testloader = DataLoader(testset, batch_size=32)\n",
    "    return trainloaders, valloaders, testloader\n",
    "\n",
    "\n",
    "trainloaders, valloaders, testloader = load_datasets(NUM_CLIENTS)"
   ]
  },
  {
   "cell_type": "markdown",
   "id": "fa38ece7-4c17-48c9-81ef-ced8faf166c7",
   "metadata": {},
   "source": [
    "# Model training/evaluation\n",
    "Let’s continue with the usual model definition (including set_parameters and get_parameters), training and test functions:"
   ]
  },
  {
   "cell_type": "code",
   "execution_count": 3,
   "id": "7ddad05e-3337-410e-8108-e6b266a91b6f",
   "metadata": {},
   "outputs": [],
   "source": [
    "class Net(nn.Module):\n",
    "    def __init__(self) -> None:\n",
    "        super(Net, self).__init__()\n",
    "        self.conv1 = nn.Conv2d(3, 6, 5)\n",
    "        self.pool = nn.MaxPool2d(2, 2)\n",
    "        self.conv2 = nn.Conv2d(6, 16, 5)\n",
    "        self.fc1 = nn.Linear(16 * 5 * 5, 120)\n",
    "        self.fc2 = nn.Linear(120, 84)\n",
    "        self.fc3 = nn.Linear(84, 10)\n",
    "\n",
    "    def forward(self, x: torch.Tensor) -> torch.Tensor:\n",
    "        x = self.pool(F.relu(self.conv1(x)))\n",
    "        x = self.pool(F.relu(self.conv2(x)))\n",
    "        x = x.view(-1, 16 * 5 * 5)\n",
    "        x = F.relu(self.fc1(x))\n",
    "        x = F.relu(self.fc2(x))\n",
    "        x = self.fc3(x)\n",
    "        return x\n",
    "\n",
    "\n",
    "def get_parameters(net) -> List[np.ndarray]:\n",
    "    return [val.cpu().numpy() for _, val in net.state_dict().items()]\n",
    "\n",
    "\n",
    "def set_parameters(net, parameters: List[np.ndarray]):\n",
    "    params_dict = zip(net.state_dict().keys(), parameters)\n",
    "    state_dict = OrderedDict({k: torch.Tensor(v) for k, v in params_dict})\n",
    "    net.load_state_dict(state_dict, strict=True)\n",
    "\n",
    "\n",
    "def train(net, trainloader, epochs: int):\n",
    "    \"\"\"Train the network on the training set.\"\"\"\n",
    "    criterion = torch.nn.CrossEntropyLoss()\n",
    "    optimizer = torch.optim.Adam(net.parameters())\n",
    "    net.train()\n",
    "    for epoch in range(epochs):\n",
    "        correct, total, epoch_loss = 0, 0, 0.0\n",
    "        for images, labels in trainloader:\n",
    "            images, labels = images.to(DEVICE), labels.to(DEVICE)\n",
    "            optimizer.zero_grad()\n",
    "            outputs = net(images)\n",
    "            loss = criterion(net(images), labels)\n",
    "            loss.backward()\n",
    "            optimizer.step()\n",
    "            # Metrics\n",
    "            epoch_loss += loss\n",
    "            total += labels.size(0)\n",
    "            correct += (torch.max(outputs.data, 1)[1] == labels).sum().item()\n",
    "        epoch_loss /= len(trainloader.dataset)\n",
    "        epoch_acc = correct / total\n",
    "        print(f\"Epoch {epoch+1}: train loss {epoch_loss}, accuracy {epoch_acc}\")\n",
    "\n",
    "\n",
    "def test(net, testloader):\n",
    "    \"\"\"Evaluate the network on the entire test set.\"\"\"\n",
    "    criterion = torch.nn.CrossEntropyLoss()\n",
    "    correct, total, loss = 0, 0, 0.0\n",
    "    net.eval()\n",
    "    with torch.no_grad():\n",
    "        for images, labels in testloader:\n",
    "            images, labels = images.to(DEVICE), labels.to(DEVICE)\n",
    "            outputs = net(images)\n",
    "            loss += criterion(outputs, labels).item()\n",
    "            _, predicted = torch.max(outputs.data, 1)\n",
    "            total += labels.size(0)\n",
    "            correct += (predicted == labels).sum().item()\n",
    "    loss /= len(testloader.dataset)\n",
    "    accuracy = correct / total\n",
    "    return loss, accuracy"
   ]
  },
  {
   "cell_type": "markdown",
   "id": "acdd2050-1a0e-4de3-996f-33a7e5cd3038",
   "metadata": {},
   "source": [
    "# Flower client\n",
    "To implement the Flower client, we (again) create a subclass of flwr.client.NumPyClient and implement the three methods get_parameters, fit, and evaluate. Here, we also pass the cid to the client and use it log additional details:"
   ]
  },
  {
   "cell_type": "code",
   "execution_count": 4,
   "id": "2270aee1-2936-41e3-a33c-74623426c660",
   "metadata": {},
   "outputs": [],
   "source": [
    "class FlowerClient(fl.client.NumPyClient):\n",
    "    def __init__(self, cid, net, trainloader, valloader):\n",
    "        self.cid = cid\n",
    "        self.net = net\n",
    "        self.trainloader = trainloader\n",
    "        self.valloader = valloader\n",
    "\n",
    "    def get_parameters(self, config):\n",
    "        print(f\"[Client {self.cid}] get_parameters\")\n",
    "        return get_parameters(self.net)\n",
    "\n",
    "    def fit(self, parameters, config):\n",
    "        print(f\"[Client {self.cid}] fit, config: {config}\")\n",
    "        set_parameters(self.net, parameters)\n",
    "        train(self.net, self.trainloader, epochs=1)\n",
    "        return get_parameters(self.net), len(self.trainloader), {}\n",
    "\n",
    "    def evaluate(self, parameters, config):\n",
    "        print(f\"[Client {self.cid}] evaluate, config: {config}\")\n",
    "        set_parameters(self.net, parameters)\n",
    "        loss, accuracy = test(self.net, self.valloader)\n",
    "        return float(loss), len(self.valloader), {\"accuracy\": float(accuracy)}\n",
    "\n",
    "\n",
    "def client_fn(cid) -> FlowerClient:\n",
    "    net = Net().to(DEVICE)\n",
    "    trainloader = trainloaders[int(cid)]\n",
    "    valloader = valloaders[int(cid)]\n",
    "    return FlowerClient(cid, net, trainloader, valloader)"
   ]
  },
  {
   "cell_type": "markdown",
   "id": "9373a91a-bb6c-481d-bac3-7cf2bd4b1f5e",
   "metadata": {},
   "source": [
    "# Strategy customization\n",
    "So far, everything should look familiar if you’ve worked through the introductory notebook. With that, we’re ready to introduce a number of new features.\n",
    "\n",
    "# Server-side parameter initialization\n",
    "Flower, by default, initializes the global model by asking one random client for the initial parameters. In many cases, we want more control over parameter initialization though. Flower therefore allows you to directly pass the initial parameters to the Strategy:"
   ]
  },
  {
   "cell_type": "code",
   "execution_count": 5,
   "id": "177a37b6-62ba-4573-bc98-ab7d4021e5cd",
   "metadata": {},
   "outputs": [
    {
     "name": "stderr",
     "output_type": "stream",
     "text": [
      "INFO flwr 2023-05-23 13:06:03,350 | app.py:146 | Starting Flower simulation, config: ServerConfig(num_rounds=3, round_timeout=None)\n",
      "2023-05-23 13:06:05,029\tINFO worker.py:1625 -- Started a local Ray instance.\n",
      "INFO flwr 2023-05-23 13:06:05,667 | app.py:180 | Flower VCE: Ray initialized with resources: {'node:127.0.0.1': 1.0, 'CPU': 8.0, 'memory': 8031669453.0, 'object_store_memory': 2147483648.0}\n",
      "INFO flwr 2023-05-23 13:06:05,668 | server.py:86 | Initializing global parameters\n",
      "INFO flwr 2023-05-23 13:06:05,668 | server.py:269 | Using initial parameters provided by strategy\n",
      "INFO flwr 2023-05-23 13:06:05,668 | server.py:88 | Evaluating initial parameters\n",
      "INFO flwr 2023-05-23 13:06:05,668 | server.py:101 | FL starting\n",
      "DEBUG flwr 2023-05-23 13:06:05,669 | server.py:218 | fit_round 1: strategy sampled 3 clients (out of 10)\n"
     ]
    },
    {
     "name": "stdout",
     "output_type": "stream",
     "text": [
      "\u001b[2m\u001b[36m(launch_and_fit pid=7660)\u001b[0m [Client 0] fit, config: {}\n"
     ]
    },
    {
     "name": "stderr",
     "output_type": "stream",
     "text": [
      "DEBUG flwr 2023-05-23 13:06:09,295 | server.py:232 | fit_round 1 received 3 results and 0 failures\n",
      "WARNING flwr 2023-05-23 13:06:09,298 | fedavg.py:243 | No fit_metrics_aggregation_fn provided\n",
      "DEBUG flwr 2023-05-23 13:06:09,299 | server.py:168 | evaluate_round 1: strategy sampled 3 clients (out of 10)\n",
      "DEBUG flwr 2023-05-23 13:06:10,946 | server.py:182 | evaluate_round 1 received 3 results and 0 failures\n",
      "WARNING flwr 2023-05-23 13:06:10,946 | fedavg.py:274 | No evaluate_metrics_aggregation_fn provided\n",
      "DEBUG flwr 2023-05-23 13:06:10,947 | server.py:218 | fit_round 2: strategy sampled 3 clients (out of 10)\n"
     ]
    },
    {
     "name": "stdout",
     "output_type": "stream",
     "text": [
      "\u001b[2m\u001b[36m(launch_and_fit pid=7660)\u001b[0m Epoch 1: train loss 0.06482589989900589, accuracy 0.22333333333333333\n",
      "\u001b[2m\u001b[36m(launch_and_evaluate pid=7660)\u001b[0m [Client 3] evaluate, config: {}\n"
     ]
    },
    {
     "name": "stderr",
     "output_type": "stream",
     "text": [
      "DEBUG flwr 2023-05-23 13:06:13,822 | server.py:232 | fit_round 2 received 3 results and 0 failures\n",
      "DEBUG flwr 2023-05-23 13:06:13,825 | server.py:168 | evaluate_round 2: strategy sampled 3 clients (out of 10)\n",
      "DEBUG flwr 2023-05-23 13:06:15,466 | server.py:182 | evaluate_round 2 received 3 results and 0 failures\n",
      "DEBUG flwr 2023-05-23 13:06:15,466 | server.py:218 | fit_round 3: strategy sampled 3 clients (out of 10)\n"
     ]
    },
    {
     "name": "stdout",
     "output_type": "stream",
     "text": [
      "\u001b[2m\u001b[36m(launch_and_fit pid=7661)\u001b[0m [Client 4] fit, config: {}\u001b[32m [repeated 5x across cluster] (Ray deduplicates logs by default. Set RAY_DEDUP_LOGS=0 to disable log deduplication, or see https://docs.ray.io/en/master/ray-observability/ray-logging.html#log-deduplication for more options.)\u001b[0m\n",
      "\u001b[2m\u001b[36m(launch_and_fit pid=7660)\u001b[0m Epoch 1: train loss 0.05658993124961853, accuracy 0.326\u001b[32m [repeated 3x across cluster]\u001b[0m\n",
      "\u001b[2m\u001b[36m(launch_and_evaluate pid=7661)\u001b[0m [Client 0] evaluate, config: {}\u001b[32m [repeated 5x across cluster]\u001b[0m\n"
     ]
    },
    {
     "name": "stderr",
     "output_type": "stream",
     "text": [
      "DEBUG flwr 2023-05-23 13:06:18,430 | server.py:232 | fit_round 3 received 3 results and 0 failures\n",
      "DEBUG flwr 2023-05-23 13:06:18,433 | server.py:168 | evaluate_round 3: strategy sampled 3 clients (out of 10)\n",
      "DEBUG flwr 2023-05-23 13:06:20,112 | server.py:182 | evaluate_round 3 received 3 results and 0 failures\n",
      "INFO flwr 2023-05-23 13:06:20,112 | server.py:147 | FL finished in 14.443642458005343\n",
      "INFO flwr 2023-05-23 13:06:20,113 | app.py:218 | app_fit: losses_distributed [(1, 0.0629815646012624), (2, 0.056064457734425865), (3, 0.05286578257878621)]\n",
      "INFO flwr 2023-05-23 13:06:20,113 | app.py:219 | app_fit: metrics_distributed_fit {}\n",
      "INFO flwr 2023-05-23 13:06:20,113 | app.py:220 | app_fit: metrics_distributed {}\n",
      "INFO flwr 2023-05-23 13:06:20,113 | app.py:221 | app_fit: losses_centralized []\n",
      "INFO flwr 2023-05-23 13:06:20,113 | app.py:222 | app_fit: metrics_centralized {}\n"
     ]
    },
    {
     "data": {
      "text/plain": [
       "History (loss, distributed):\n",
       "\tround 1: 0.0629815646012624\n",
       "\tround 2: 0.056064457734425865\n",
       "\tround 3: 0.05286578257878621"
      ]
     },
     "execution_count": 5,
     "metadata": {},
     "output_type": "execute_result"
    }
   ],
   "source": [
    "# Create an instance of the model and get the parameters\n",
    "params = get_parameters(Net())\n",
    "\n",
    "# Pass parameters to the Strategy for server-side parameter initialization\n",
    "strategy = fl.server.strategy.FedAvg(\n",
    "    fraction_fit=0.3,\n",
    "    fraction_evaluate=0.3,\n",
    "    min_fit_clients=3,\n",
    "    min_evaluate_clients=3,\n",
    "    min_available_clients=NUM_CLIENTS,\n",
    "    initial_parameters=fl.common.ndarrays_to_parameters(params),\n",
    ")\n",
    "\n",
    "# Specify client resources if you need GPU (defaults to 1 CPU and 0 GPU)\n",
    "client_resources = None\n",
    "if DEVICE.type == \"cuda\":\n",
    "    client_resources = {\"num_gpus\": 1}\n",
    "\n",
    "# Start simulation\n",
    "fl.simulation.start_simulation(\n",
    "    client_fn=client_fn,\n",
    "    num_clients=NUM_CLIENTS,\n",
    "    config=fl.server.ServerConfig(num_rounds=3),  # Just three rounds\n",
    "    strategy=strategy,\n",
    "    client_resources=client_resources,\n",
    ")"
   ]
  },
  {
   "cell_type": "markdown",
   "id": "449b3d35-65b4-43d4-865d-8806688947c7",
   "metadata": {},
   "source": [
    "Passing initial_parameters to the FedAvg strategy prevents Flower from asking one of the clients for the initial parameters. If we look closely, we can see that the logs do not show any calls to the FlowerClient.get_parameters method.\n",
    "\n",
    "# Starting with a customized strategy\n",
    "We’ve seen the function start_simulation before. It accepts a number of arguments, amongst them the client_fn used to create FlowerClient instances, the number of clients to simulate num_clients, the number of rounds num_rounds, and the strategy.\n",
    "\n",
    "The strategy encapsulates the federated learning approach/algorithm, for example, FedAvg or FedAdagrad. Let’s try to use a different strategy this time:"
   ]
  },
  {
   "cell_type": "code",
   "execution_count": 6,
   "id": "988cc9e9-443a-410c-9806-73fe41679eb1",
   "metadata": {},
   "outputs": [
    {
     "name": "stderr",
     "output_type": "stream",
     "text": [
      "INFO flwr 2023-05-23 13:06:20,130 | app.py:146 | Starting Flower simulation, config: ServerConfig(num_rounds=3, round_timeout=None)\n"
     ]
    },
    {
     "name": "stdout",
     "output_type": "stream",
     "text": [
      "\u001b[2m\u001b[36m(launch_and_fit pid=7661)\u001b[0m [Client 8] fit, config: {}\u001b[32m [repeated 3x across cluster]\u001b[0m\n",
      "\u001b[2m\u001b[36m(launch_and_fit pid=7661)\u001b[0m Epoch 1: train loss 0.05372537672519684, accuracy 0.37555555555555553\u001b[32m [repeated 5x across cluster]\u001b[0m\n",
      "\u001b[2m\u001b[36m(launch_and_evaluate pid=7660)\u001b[0m [Client 6] evaluate, config: {}\n"
     ]
    },
    {
     "name": "stderr",
     "output_type": "stream",
     "text": [
      "2023-05-23 13:06:24,278\tINFO worker.py:1625 -- Started a local Ray instance.\n",
      "INFO flwr 2023-05-23 13:06:24,875 | app.py:180 | Flower VCE: Ray initialized with resources: {'memory': 7960094311.0, 'node:127.0.0.1': 1.0, 'object_store_memory': 2147483648.0, 'CPU': 8.0}\n",
      "INFO flwr 2023-05-23 13:06:24,875 | server.py:86 | Initializing global parameters\n",
      "INFO flwr 2023-05-23 13:06:24,876 | server.py:269 | Using initial parameters provided by strategy\n",
      "INFO flwr 2023-05-23 13:06:24,876 | server.py:88 | Evaluating initial parameters\n",
      "INFO flwr 2023-05-23 13:06:24,876 | server.py:101 | FL starting\n",
      "DEBUG flwr 2023-05-23 13:06:24,876 | server.py:218 | fit_round 1: strategy sampled 3 clients (out of 10)\n"
     ]
    },
    {
     "name": "stdout",
     "output_type": "stream",
     "text": [
      "\u001b[2m\u001b[36m(launch_and_fit pid=7689)\u001b[0m [Client 9] fit, config: {}\n"
     ]
    },
    {
     "name": "stderr",
     "output_type": "stream",
     "text": [
      "DEBUG flwr 2023-05-23 13:06:28,476 | server.py:232 | fit_round 1 received 3 results and 0 failures\n",
      "WARNING flwr 2023-05-23 13:06:28,480 | fedavg.py:243 | No fit_metrics_aggregation_fn provided\n",
      "DEBUG flwr 2023-05-23 13:06:28,481 | server.py:168 | evaluate_round 1: strategy sampled 3 clients (out of 10)\n",
      "DEBUG flwr 2023-05-23 13:06:30,111 | server.py:182 | evaluate_round 1 received 3 results and 0 failures\n",
      "WARNING flwr 2023-05-23 13:06:30,111 | fedavg.py:274 | No evaluate_metrics_aggregation_fn provided\n",
      "DEBUG flwr 2023-05-23 13:06:30,112 | server.py:218 | fit_round 2: strategy sampled 3 clients (out of 10)\n"
     ]
    },
    {
     "name": "stdout",
     "output_type": "stream",
     "text": [
      "\u001b[2m\u001b[36m(launch_and_fit pid=7689)\u001b[0m Epoch 1: train loss 0.06498049199581146, accuracy 0.2311111111111111\n",
      "\u001b[2m\u001b[36m(launch_and_evaluate pid=7689)\u001b[0m [Client 2] evaluate, config: {}\n"
     ]
    },
    {
     "name": "stderr",
     "output_type": "stream",
     "text": [
      "DEBUG flwr 2023-05-23 13:06:33,031 | server.py:232 | fit_round 2 received 3 results and 0 failures\n",
      "DEBUG flwr 2023-05-23 13:06:33,036 | server.py:168 | evaluate_round 2: strategy sampled 3 clients (out of 10)\n"
     ]
    },
    {
     "name": "stdout",
     "output_type": "stream",
     "text": [
      "\u001b[2m\u001b[36m(launch_and_fit pid=7689)\u001b[0m \n",
      "\u001b[2m\u001b[36m(launch_and_fit pid=7683)\u001b[0m [Client 3] fit, config: {}\u001b[32m [repeated 5x across cluster]\u001b[0m\n"
     ]
    },
    {
     "name": "stderr",
     "output_type": "stream",
     "text": [
      "DEBUG flwr 2023-05-23 13:06:34,682 | server.py:182 | evaluate_round 2 received 3 results and 0 failures\n",
      "DEBUG flwr 2023-05-23 13:06:34,682 | server.py:218 | fit_round 3: strategy sampled 3 clients (out of 10)\n"
     ]
    },
    {
     "name": "stdout",
     "output_type": "stream",
     "text": [
      "\u001b[2m\u001b[36m(launch_and_fit pid=7683)\u001b[0m Epoch 1: train loss 0.9056510925292969, accuracy 0.272\u001b[32m [repeated 5x across cluster]\u001b[0m\n",
      "\u001b[2m\u001b[36m(launch_and_evaluate pid=7683)\u001b[0m [Client 5] evaluate, config: {}\u001b[32m [repeated 5x across cluster]\u001b[0m\n"
     ]
    },
    {
     "name": "stderr",
     "output_type": "stream",
     "text": [
      "DEBUG flwr 2023-05-23 13:06:37,609 | server.py:232 | fit_round 3 received 3 results and 0 failures\n",
      "DEBUG flwr 2023-05-23 13:06:37,613 | server.py:168 | evaluate_round 3: strategy sampled 3 clients (out of 10)\n",
      "DEBUG flwr 2023-05-23 13:06:39,258 | server.py:182 | evaluate_round 3 received 3 results and 0 failures\n",
      "INFO flwr 2023-05-23 13:06:39,258 | server.py:147 | FL finished in 14.381816749984864\n",
      "INFO flwr 2023-05-23 13:06:39,258 | app.py:218 | app_fit: losses_distributed [(1, 8.853475362141927), (2, 0.6242502880096436), (3, 0.07416640790303548)]\n",
      "INFO flwr 2023-05-23 13:06:39,259 | app.py:219 | app_fit: metrics_distributed_fit {}\n",
      "INFO flwr 2023-05-23 13:06:39,259 | app.py:220 | app_fit: metrics_distributed {}\n",
      "INFO flwr 2023-05-23 13:06:39,259 | app.py:221 | app_fit: losses_centralized []\n",
      "INFO flwr 2023-05-23 13:06:39,259 | app.py:222 | app_fit: metrics_centralized {}\n"
     ]
    },
    {
     "name": "stdout",
     "output_type": "stream",
     "text": [
      "\u001b[2m\u001b[36m(launch_and_fit pid=7683)\u001b[0m [Client 2] fit, config: {}\u001b[32m [repeated 3x across cluster]\u001b[0m\n"
     ]
    },
    {
     "data": {
      "text/plain": [
       "History (loss, distributed):\n",
       "\tround 1: 8.853475362141927\n",
       "\tround 2: 0.6242502880096436\n",
       "\tround 3: 0.07416640790303548"
      ]
     },
     "execution_count": 6,
     "metadata": {},
     "output_type": "execute_result"
    }
   ],
   "source": [
    "# Create FedAdam strategy\n",
    "strategy = fl.server.strategy.FedAdagrad(\n",
    "    fraction_fit=0.3,\n",
    "    fraction_evaluate=0.3,\n",
    "    min_fit_clients=3,\n",
    "    min_evaluate_clients=3,\n",
    "    min_available_clients=NUM_CLIENTS,\n",
    "    initial_parameters=fl.common.ndarrays_to_parameters(get_parameters(Net())),\n",
    ")\n",
    "\n",
    "# Start simulation\n",
    "fl.simulation.start_simulation(\n",
    "    client_fn=client_fn,\n",
    "    num_clients=NUM_CLIENTS,\n",
    "    config=fl.server.ServerConfig(num_rounds=3),  # Just three rounds\n",
    "    strategy=strategy,\n",
    "    client_resources=client_resources,\n",
    ")"
   ]
  },
  {
   "cell_type": "markdown",
   "id": "80913312-90a3-446a-a730-107f1919e692",
   "metadata": {},
   "source": [
    "# Server-side parameter evaluation\n",
    "Flower can evaluate the aggregated model on the server-side or on the client-side. Client-side and server-side evaluation are similar in some ways, but different in others.\n",
    "\n",
    "__Centralized Evaluation__ (or server-side evaluation) is conceptually simple: it works the same way that evaluation in centralized machine learning does. If there is a server-side dataset that can be used for evaluation purposes, then that’s great. We can evaluate the newly aggregated model after each round of training without having to send the model to clients. We’re also fortunate in the sense that our entire evaluation dataset is available at all times.\n",
    "\n",
    "__Federated Evaluation__ (or client-side evaluation) is more complex, but also more powerful: it doesn’t require a centralized dataset and allows us to evaluate models over a larger set of data, which often yields more realistic evaluation results. In fact, many scenarios require us to use __Federated Evaluation__ if we want to get representative evaluation results at all. But this power comes at a cost: once we start to evaluate on the client side, we should be aware that our evaluation dataset can change over consecutive rounds of learning if those clients are not always available. Moreover, the dataset held by each client can also change over consecutive rounds. This can lead to evaluation results that are not stable, so even if we would not change the model, we’d see our evaluation results fluctuate over consecutive rounds.\n",
    "\n",
    "We’ve seen how federated evaluation works on the client side (i.e., by implementing the evaluate method in FlowerClient). Now let’s see how we can evaluate aggregated model parameters on the server-side:"
   ]
  },
  {
   "cell_type": "code",
   "execution_count": 7,
   "id": "40798ef8-cd09-42fb-9040-fe8bf8589c54",
   "metadata": {
    "tags": []
   },
   "outputs": [],
   "source": [
    "# The `evaluate` function will be by Flower called after every round\n",
    "def evaluate(\n",
    "    server_round: int,\n",
    "    parameters: fl.common.NDArrays,\n",
    "    config: Dict[str, fl.common.Scalar],\n",
    ") -> Optional[Tuple[float, Dict[str, fl.common.Scalar]]]:\n",
    "    net = Net().to(DEVICE)\n",
    "    valloader = valloaders[0]\n",
    "    set_parameters(net, parameters)  # Update model with the latest parameters\n",
    "    loss, accuracy = test(net, valloader)\n",
    "    print(f\"Server-side evaluation loss {loss} / accuracy {accuracy}\")\n",
    "    return loss, {\"accuracy\": accuracy}"
   ]
  },
  {
   "cell_type": "code",
   "execution_count": 8,
   "id": "babdad58-085b-4b41-b356-2e1f95fa2940",
   "metadata": {},
   "outputs": [
    {
     "name": "stderr",
     "output_type": "stream",
     "text": [
      "INFO flwr 2023-05-23 13:06:39,275 | app.py:146 | Starting Flower simulation, config: ServerConfig(num_rounds=3, round_timeout=None)\n"
     ]
    },
    {
     "name": "stdout",
     "output_type": "stream",
     "text": [
      "\u001b[2m\u001b[36m(launch_and_fit pid=7683)\u001b[0m Epoch 1: train loss 0.10485149919986725, accuracy 0.11622222222222223\u001b[32m [repeated 3x across cluster]\u001b[0m\n",
      "\u001b[2m\u001b[36m(launch_and_evaluate pid=7683)\u001b[0m [Client 1] evaluate, config: {}\u001b[32m [repeated 3x across cluster]\u001b[0m\n"
     ]
    },
    {
     "name": "stderr",
     "output_type": "stream",
     "text": [
      "2023-05-23 13:06:43,522\tINFO worker.py:1625 -- Started a local Ray instance.\n",
      "INFO flwr 2023-05-23 13:06:44,143 | app.py:180 | Flower VCE: Ray initialized with resources: {'memory': 7939730637.0, 'CPU': 8.0, 'node:127.0.0.1': 1.0, 'object_store_memory': 2147483648.0}\n",
      "INFO flwr 2023-05-23 13:06:44,144 | server.py:86 | Initializing global parameters\n",
      "INFO flwr 2023-05-23 13:06:44,144 | server.py:269 | Using initial parameters provided by strategy\n",
      "INFO flwr 2023-05-23 13:06:44,144 | server.py:88 | Evaluating initial parameters\n",
      "INFO flwr 2023-05-23 13:06:44,199 | server.py:91 | initial parameters (loss, other metrics): 0.07388043880462647, {'accuracy': 0.076}\n",
      "INFO flwr 2023-05-23 13:06:44,200 | server.py:101 | FL starting\n",
      "DEBUG flwr 2023-05-23 13:06:44,200 | server.py:218 | fit_round 1: strategy sampled 3 clients (out of 10)\n"
     ]
    },
    {
     "name": "stdout",
     "output_type": "stream",
     "text": [
      "Server-side evaluation loss 0.07388043880462647 / accuracy 0.076\n",
      "\u001b[2m\u001b[36m(launch_and_fit pid=7707)\u001b[0m [Client 0] fit, config: {}\n"
     ]
    },
    {
     "name": "stderr",
     "output_type": "stream",
     "text": [
      "DEBUG flwr 2023-05-23 13:06:47,809 | server.py:232 | fit_round 1 received 3 results and 0 failures\n",
      "WARNING flwr 2023-05-23 13:06:47,813 | fedavg.py:243 | No fit_metrics_aggregation_fn provided\n",
      "INFO flwr 2023-05-23 13:06:47,866 | server.py:119 | fit progress: (1, 0.06223023772239685, {'accuracy': 0.27}, 3.6656037499778904)\n",
      "DEBUG flwr 2023-05-23 13:06:47,866 | server.py:168 | evaluate_round 1: strategy sampled 3 clients (out of 10)\n"
     ]
    },
    {
     "name": "stdout",
     "output_type": "stream",
     "text": [
      "\u001b[2m\u001b[36m(launch_and_fit pid=7707)\u001b[0m Epoch 1: train loss 0.06600439548492432, accuracy 0.22511111111111112\n",
      "Server-side evaluation loss 0.06223023772239685 / accuracy 0.27\n"
     ]
    },
    {
     "name": "stderr",
     "output_type": "stream",
     "text": [
      "DEBUG flwr 2023-05-23 13:06:49,515 | server.py:182 | evaluate_round 1 received 3 results and 0 failures\n",
      "WARNING flwr 2023-05-23 13:06:49,516 | fedavg.py:274 | No evaluate_metrics_aggregation_fn provided\n",
      "DEBUG flwr 2023-05-23 13:06:49,516 | server.py:218 | fit_round 2: strategy sampled 3 clients (out of 10)\n"
     ]
    },
    {
     "name": "stdout",
     "output_type": "stream",
     "text": [
      "\u001b[2m\u001b[36m(launch_and_evaluate pid=7707)\u001b[0m [Client 9] evaluate, config: {}\n"
     ]
    },
    {
     "name": "stderr",
     "output_type": "stream",
     "text": [
      "DEBUG flwr 2023-05-23 13:06:52,447 | server.py:232 | fit_round 2 received 3 results and 0 failures\n",
      "INFO flwr 2023-05-23 13:06:52,500 | server.py:119 | fit progress: (2, 0.05776379370689392, {'accuracy': 0.32}, 8.300287666963413)\n",
      "DEBUG flwr 2023-05-23 13:06:52,501 | server.py:168 | evaluate_round 2: strategy sampled 3 clients (out of 10)\n"
     ]
    },
    {
     "name": "stdout",
     "output_type": "stream",
     "text": [
      "\u001b[2m\u001b[36m(launch_and_fit pid=7709)\u001b[0m [Client 8] fit, config: {}\u001b[32m [repeated 5x across cluster]\u001b[0m\n",
      "Server-side evaluation loss 0.05776379370689392 / accuracy 0.32\n",
      "\u001b[2m\u001b[36m(launch_and_fit pid=7709)\u001b[0m Epoch 1: train loss 0.05801357701420784, accuracy 0.31355555555555553\u001b[32m [repeated 5x across cluster]\u001b[0m\n"
     ]
    },
    {
     "name": "stderr",
     "output_type": "stream",
     "text": [
      "DEBUG flwr 2023-05-23 13:06:54,164 | server.py:182 | evaluate_round 2 received 3 results and 0 failures\n",
      "DEBUG flwr 2023-05-23 13:06:54,165 | server.py:218 | fit_round 3: strategy sampled 3 clients (out of 10)\n"
     ]
    },
    {
     "name": "stdout",
     "output_type": "stream",
     "text": [
      "\u001b[2m\u001b[36m(launch_and_evaluate pid=7708)\u001b[0m [Client 2] evaluate, config: {}\u001b[32m [repeated 5x across cluster]\u001b[0m\n"
     ]
    },
    {
     "name": "stderr",
     "output_type": "stream",
     "text": [
      "DEBUG flwr 2023-05-23 13:06:57,061 | server.py:232 | fit_round 3 received 3 results and 0 failures\n",
      "INFO flwr 2023-05-23 13:06:57,114 | server.py:119 | fit progress: (3, 0.054261915922164915, {'accuracy': 0.386}, 12.914160416985396)\n",
      "DEBUG flwr 2023-05-23 13:06:57,114 | server.py:168 | evaluate_round 3: strategy sampled 3 clients (out of 10)\n"
     ]
    },
    {
     "name": "stdout",
     "output_type": "stream",
     "text": [
      "Server-side evaluation loss 0.054261915922164915 / accuracy 0.386\n",
      "\u001b[2m\u001b[36m(launch_and_fit pid=7709)\u001b[0m [Client 6] fit, config: {}\u001b[32m [repeated 3x across cluster]\u001b[0m\n",
      "\u001b[2m\u001b[36m(launch_and_fit pid=7707)\u001b[0m Epoch 1: train loss 0.0543978214263916, accuracy 0.3611111111111111\n"
     ]
    },
    {
     "name": "stderr",
     "output_type": "stream",
     "text": [
      "DEBUG flwr 2023-05-23 13:06:58,768 | server.py:182 | evaluate_round 3 received 3 results and 0 failures\n",
      "INFO flwr 2023-05-23 13:06:58,769 | server.py:147 | FL finished in 14.568740582966711\n",
      "INFO flwr 2023-05-23 13:06:58,769 | app.py:218 | app_fit: losses_distributed [(1, 0.0626326318581899), (2, 0.05687365523974101), (3, 0.05304962309201558)]\n",
      "INFO flwr 2023-05-23 13:06:58,769 | app.py:219 | app_fit: metrics_distributed_fit {}\n",
      "INFO flwr 2023-05-23 13:06:58,769 | app.py:220 | app_fit: metrics_distributed {}\n",
      "INFO flwr 2023-05-23 13:06:58,770 | app.py:221 | app_fit: losses_centralized [(0, 0.07388043880462647), (1, 0.06223023772239685), (2, 0.05776379370689392), (3, 0.054261915922164915)]\n",
      "INFO flwr 2023-05-23 13:06:58,770 | app.py:222 | app_fit: metrics_centralized {'accuracy': [(0, 0.076), (1, 0.27), (2, 0.32), (3, 0.386)]}\n"
     ]
    },
    {
     "name": "stdout",
     "output_type": "stream",
     "text": [
      "\u001b[2m\u001b[36m(launch_and_fit pid=7708)\u001b[0m Epoch 1: train loss 0.05410698428750038, accuracy 0.358\n"
     ]
    },
    {
     "data": {
      "text/plain": [
       "History (loss, distributed):\n",
       "\tround 1: 0.0626326318581899\n",
       "\tround 2: 0.05687365523974101\n",
       "\tround 3: 0.05304962309201558\n",
       "History (loss, centralized):\n",
       "\tround 0: 0.07388043880462647\n",
       "\tround 1: 0.06223023772239685\n",
       "\tround 2: 0.05776379370689392\n",
       "\tround 3: 0.054261915922164915\n",
       "History (metrics, centralized):\n",
       "{'accuracy': [(0, 0.076), (1, 0.27), (2, 0.32), (3, 0.386)]}"
      ]
     },
     "execution_count": 8,
     "metadata": {},
     "output_type": "execute_result"
    }
   ],
   "source": [
    "strategy = fl.server.strategy.FedAvg(\n",
    "    fraction_fit=0.3,\n",
    "    fraction_evaluate=0.3,\n",
    "    min_fit_clients=3,\n",
    "    min_evaluate_clients=3,\n",
    "    min_available_clients=NUM_CLIENTS,\n",
    "    initial_parameters=fl.common.ndarrays_to_parameters(get_parameters(Net())),\n",
    "    evaluate_fn=evaluate,  # Pass the evaluation function\n",
    ")\n",
    "\n",
    "fl.simulation.start_simulation(\n",
    "    client_fn=client_fn,\n",
    "    num_clients=NUM_CLIENTS,\n",
    "    config=fl.server.ServerConfig(num_rounds=3),  # Just three rounds\n",
    "    strategy=strategy,\n",
    "    client_resources=client_resources,\n",
    ")"
   ]
  },
  {
   "cell_type": "markdown",
   "id": "ed02af8a-61b3-4c70-9bb6-9527c9bc526d",
   "metadata": {},
   "source": [
    "# Sending/receiving arbitrary values to/from clients\n",
    "In some situations, we want to configure client-side execution (trainig, evaluation) from the server-side. One example for that is the server asking the clients to train for a certain number of local epochs. Flower provides a way to send configuration values from the server to the clients using a dictionary. Let’s look at an example where the clients receive values from the server through the `config` parameter in `fit` (`config` is also available in `evaluate`). The `fit` method receives the configuration dictionary through the `config` parameter and can then read values from this dictionary. In this example, it reads `server_round` and `local_epochs` and uses those values to improve the logging and configure the number of local training epochs:"
   ]
  },
  {
   "cell_type": "code",
   "execution_count": 9,
   "id": "95a28bd0-0f74-471d-87e7-9d66ecbcfd3d",
   "metadata": {},
   "outputs": [],
   "source": [
    "class FlowerClient(fl.client.NumPyClient):\n",
    "    def __init__(self, cid, net, trainloader, valloader):\n",
    "        self.cid = cid\n",
    "        self.net = net\n",
    "        self.trainloader = trainloader\n",
    "        self.valloader = valloader\n",
    "\n",
    "    def get_parameters(self, config):\n",
    "        print(f\"[Client {self.cid}] get_parameters\")\n",
    "        return get_parameters(self.net)\n",
    "\n",
    "    def fit(self, parameters, config):\n",
    "        # Read values from config\n",
    "        server_round = config[\"server_round\"]\n",
    "        local_epochs = config[\"local_epochs\"]\n",
    "\n",
    "        # Use values provided by the config\n",
    "        print(f\"[Client {self.cid}, round {server_round}] fit, config: {config}\")\n",
    "        set_parameters(self.net, parameters)\n",
    "        train(self.net, self.trainloader, epochs=local_epochs)\n",
    "        return get_parameters(self.net), len(self.trainloader), {}\n",
    "\n",
    "    def evaluate(self, parameters, config):\n",
    "        print(f\"[Client {self.cid}] evaluate, config: {config}\")\n",
    "        set_parameters(self.net, parameters)\n",
    "        loss, accuracy = test(self.net, self.valloader)\n",
    "        return float(loss), len(self.valloader), {\"accuracy\": float(accuracy)}\n",
    "\n",
    "\n",
    "def client_fn(cid) -> FlowerClient:\n",
    "    net = Net().to(DEVICE)\n",
    "    trainloader = trainloaders[int(cid)]\n",
    "    valloader = valloaders[int(cid)]\n",
    "    return FlowerClient(cid, net, trainloader, valloader)"
   ]
  },
  {
   "cell_type": "markdown",
   "id": "b5281e63-72ad-448c-81d6-b888e58c6fdd",
   "metadata": {},
   "source": [
    "So how can we send this config dictionary from server to clients? The built-in Flower Strategies provide way to do this, and it works similarly to the way server-side evaluation works. We provide a function to the strategy, and the strategy calls this function for every round of federated learning:"
   ]
  },
  {
   "cell_type": "code",
   "execution_count": 10,
   "id": "54c693c0-915d-4603-bd1c-3a699a5da4fa",
   "metadata": {},
   "outputs": [],
   "source": [
    "def fit_config(server_round: int):\n",
    "    \"\"\"Return training configuration dict for each round.\n",
    "\n",
    "    Perform two rounds of training with one local epoch, increase to two local\n",
    "    epochs afterwards.\n",
    "    \"\"\"\n",
    "    config = {\n",
    "        \"server_round\": server_round,  # The current round of federated learning\n",
    "        \"local_epochs\": 1 if server_round < 2 else 2,  #\n",
    "    }\n",
    "    return config"
   ]
  },
  {
   "cell_type": "markdown",
   "id": "c3339812-fab9-4e01-b321-3efcfe4e460c",
   "metadata": {},
   "source": [
    "Next, we’ll just pass this function to the FedAvg strategy before starting the simulation:"
   ]
  },
  {
   "cell_type": "code",
   "execution_count": 11,
   "id": "b1c49993-7fe1-4a2d-9c47-2f97dda80566",
   "metadata": {},
   "outputs": [
    {
     "name": "stderr",
     "output_type": "stream",
     "text": [
      "INFO flwr 2023-05-23 13:06:58,789 | app.py:146 | Starting Flower simulation, config: ServerConfig(num_rounds=3, round_timeout=None)\n"
     ]
    },
    {
     "name": "stdout",
     "output_type": "stream",
     "text": [
      "\u001b[2m\u001b[36m(launch_and_evaluate pid=7707)\u001b[0m [Client 6] evaluate, config: {}\n",
      "\u001b[2m\u001b[36m(launch_and_fit pid=7709)\u001b[0m Epoch 1: train loss 0.0548231303691864, accuracy 0.3526666666666667\n"
     ]
    },
    {
     "name": "stderr",
     "output_type": "stream",
     "text": [
      "2023-05-23 13:07:03,061\tINFO worker.py:1625 -- Started a local Ray instance.\n",
      "INFO flwr 2023-05-23 13:07:03,646 | app.py:180 | Flower VCE: Ray initialized with resources: {'object_store_memory': 2147483648.0, 'memory': 8005319066.0, 'node:127.0.0.1': 1.0, 'CPU': 8.0}\n",
      "INFO flwr 2023-05-23 13:07:03,647 | server.py:86 | Initializing global parameters\n",
      "INFO flwr 2023-05-23 13:07:03,647 | server.py:269 | Using initial parameters provided by strategy\n",
      "INFO flwr 2023-05-23 13:07:03,647 | server.py:88 | Evaluating initial parameters\n",
      "INFO flwr 2023-05-23 13:07:03,703 | server.py:91 | initial parameters (loss, other metrics): 0.0739201283454895, {'accuracy': 0.092}\n",
      "INFO flwr 2023-05-23 13:07:03,703 | server.py:101 | FL starting\n",
      "DEBUG flwr 2023-05-23 13:07:03,704 | server.py:218 | fit_round 1: strategy sampled 3 clients (out of 10)\n"
     ]
    },
    {
     "name": "stdout",
     "output_type": "stream",
     "text": [
      "Server-side evaluation loss 0.0739201283454895 / accuracy 0.092\n",
      "\u001b[2m\u001b[36m(launch_and_fit pid=7731)\u001b[0m [Client 8, round 1] fit, config: {'server_round': 1, 'local_epochs': 1}\n"
     ]
    },
    {
     "name": "stderr",
     "output_type": "stream",
     "text": [
      "DEBUG flwr 2023-05-23 13:07:07,308 | server.py:232 | fit_round 1 received 3 results and 0 failures\n",
      "WARNING flwr 2023-05-23 13:07:07,311 | fedavg.py:243 | No fit_metrics_aggregation_fn provided\n",
      "INFO flwr 2023-05-23 13:07:07,363 | server.py:119 | fit progress: (1, 0.06284520053863525, {'accuracy': 0.276}, 3.658823541016318)\n",
      "DEBUG flwr 2023-05-23 13:07:07,363 | server.py:168 | evaluate_round 1: strategy sampled 3 clients (out of 10)\n"
     ]
    },
    {
     "name": "stdout",
     "output_type": "stream",
     "text": [
      "\u001b[2m\u001b[36m(launch_and_fit pid=7732)\u001b[0m Epoch 1: train loss 0.06438609957695007, accuracy 0.23355555555555554\n",
      "Server-side evaluation loss 0.06284520053863525 / accuracy 0.276\n"
     ]
    },
    {
     "name": "stderr",
     "output_type": "stream",
     "text": [
      "DEBUG flwr 2023-05-23 13:07:09,050 | server.py:182 | evaluate_round 1 received 3 results and 0 failures\n",
      "WARNING flwr 2023-05-23 13:07:09,051 | fedavg.py:274 | No evaluate_metrics_aggregation_fn provided\n",
      "DEBUG flwr 2023-05-23 13:07:09,051 | server.py:218 | fit_round 2: strategy sampled 3 clients (out of 10)\n"
     ]
    },
    {
     "name": "stdout",
     "output_type": "stream",
     "text": [
      "\u001b[2m\u001b[36m(launch_and_evaluate pid=7730)\u001b[0m [Client 1] evaluate, config: {}\n",
      "\u001b[2m\u001b[36m(launch_and_fit pid=7730)\u001b[0m [Client 1, round 2] fit, config: {'server_round': 2, 'local_epochs': 2}\u001b[32m [repeated 5x across cluster]\u001b[0m\n"
     ]
    },
    {
     "name": "stderr",
     "output_type": "stream",
     "text": [
      "DEBUG flwr 2023-05-23 13:07:13,274 | server.py:232 | fit_round 2 received 3 results and 0 failures\n",
      "INFO flwr 2023-05-23 13:07:13,327 | server.py:119 | fit progress: (2, 0.05364082360267639, {'accuracy': 0.402}, 9.622870624996722)\n",
      "DEBUG flwr 2023-05-23 13:07:13,327 | server.py:168 | evaluate_round 2: strategy sampled 3 clients (out of 10)\n"
     ]
    },
    {
     "name": "stdout",
     "output_type": "stream",
     "text": [
      "\u001b[2m\u001b[36m(launch_and_fit pid=7732)\u001b[0m Epoch 2: train loss 0.05363083258271217, accuracy 0.36466666666666664\u001b[32m [repeated 6x across cluster]\u001b[0m\n",
      "Server-side evaluation loss 0.05364082360267639 / accuracy 0.402\n"
     ]
    },
    {
     "name": "stderr",
     "output_type": "stream",
     "text": [
      "DEBUG flwr 2023-05-23 13:07:15,020 | server.py:182 | evaluate_round 2 received 3 results and 0 failures\n",
      "DEBUG flwr 2023-05-23 13:07:15,020 | server.py:218 | fit_round 3: strategy sampled 3 clients (out of 10)\n"
     ]
    },
    {
     "name": "stdout",
     "output_type": "stream",
     "text": [
      "\u001b[2m\u001b[36m(launch_and_evaluate pid=7732)\u001b[0m [Client 6] evaluate, config: {}\u001b[32m [repeated 2x across cluster]\u001b[0m\n",
      "\u001b[2m\u001b[36m(launch_and_fit pid=7730)\u001b[0m [Client 0, round 3] fit, config: {'server_round': 3, 'local_epochs': 2}\u001b[32m [repeated 3x across cluster]\u001b[0m\n"
     ]
    },
    {
     "name": "stderr",
     "output_type": "stream",
     "text": [
      "DEBUG flwr 2023-05-23 13:07:19,376 | server.py:232 | fit_round 3 received 3 results and 0 failures\n",
      "INFO flwr 2023-05-23 13:07:19,431 | server.py:119 | fit progress: (3, 0.05107601547241211, {'accuracy': 0.428}, 15.727594875032082)\n",
      "DEBUG flwr 2023-05-23 13:07:19,432 | server.py:168 | evaluate_round 3: strategy sampled 3 clients (out of 10)\n"
     ]
    },
    {
     "name": "stdout",
     "output_type": "stream",
     "text": [
      "\u001b[2m\u001b[36m(launch_and_fit pid=7731)\u001b[0m Epoch 2: train loss 0.04899758845567703, accuracy 0.42933333333333334\u001b[32m [repeated 6x across cluster]\u001b[0m\n",
      "Server-side evaluation loss 0.05107601547241211 / accuracy 0.428\n"
     ]
    },
    {
     "name": "stderr",
     "output_type": "stream",
     "text": [
      "DEBUG flwr 2023-05-23 13:07:21,094 | server.py:182 | evaluate_round 3 received 3 results and 0 failures\n",
      "INFO flwr 2023-05-23 13:07:21,094 | server.py:147 | FL finished in 17.39067466603592\n",
      "INFO flwr 2023-05-23 13:07:21,095 | app.py:218 | app_fit: losses_distributed [(1, 0.0625706917444865), (2, 0.05246995917956034), (3, 0.050402129093805946)]\n",
      "INFO flwr 2023-05-23 13:07:21,095 | app.py:219 | app_fit: metrics_distributed_fit {}\n",
      "INFO flwr 2023-05-23 13:07:21,095 | app.py:220 | app_fit: metrics_distributed {}\n",
      "INFO flwr 2023-05-23 13:07:21,096 | app.py:221 | app_fit: losses_centralized [(0, 0.0739201283454895), (1, 0.06284520053863525), (2, 0.05364082360267639), (3, 0.05107601547241211)]\n",
      "INFO flwr 2023-05-23 13:07:21,096 | app.py:222 | app_fit: metrics_centralized {'accuracy': [(0, 0.092), (1, 0.276), (2, 0.402), (3, 0.428)]}\n"
     ]
    },
    {
     "name": "stdout",
     "output_type": "stream",
     "text": [
      "\u001b[2m\u001b[36m(launch_and_evaluate pid=7731)\u001b[0m [Client 0] evaluate, config: {}\u001b[32m [repeated 4x across cluster]\u001b[0m\n"
     ]
    },
    {
     "data": {
      "text/plain": [
       "History (loss, distributed):\n",
       "\tround 1: 0.0625706917444865\n",
       "\tround 2: 0.05246995917956034\n",
       "\tround 3: 0.050402129093805946\n",
       "History (loss, centralized):\n",
       "\tround 0: 0.0739201283454895\n",
       "\tround 1: 0.06284520053863525\n",
       "\tround 2: 0.05364082360267639\n",
       "\tround 3: 0.05107601547241211\n",
       "History (metrics, centralized):\n",
       "{'accuracy': [(0, 0.092), (1, 0.276), (2, 0.402), (3, 0.428)]}"
      ]
     },
     "execution_count": 11,
     "metadata": {},
     "output_type": "execute_result"
    }
   ],
   "source": [
    "strategy = fl.server.strategy.FedAvg(\n",
    "    fraction_fit=0.3,\n",
    "    fraction_evaluate=0.3,\n",
    "    min_fit_clients=3,\n",
    "    min_evaluate_clients=3,\n",
    "    min_available_clients=NUM_CLIENTS,\n",
    "    initial_parameters=fl.common.ndarrays_to_parameters(get_parameters(Net())),\n",
    "    evaluate_fn=evaluate,\n",
    "    on_fit_config_fn=fit_config,  # Pass the fit_config function\n",
    ")\n",
    "\n",
    "fl.simulation.start_simulation(\n",
    "    client_fn=client_fn,\n",
    "    num_clients=NUM_CLIENTS,\n",
    "    config=fl.server.ServerConfig(num_rounds=3),  # Just three rounds\n",
    "    strategy=strategy,\n",
    "    client_resources=client_resources,\n",
    ")"
   ]
  },
  {
   "cell_type": "markdown",
   "id": "d7fca84d-7219-4137-8a50-c49f01cb0b35",
   "metadata": {},
   "source": [
    "As we can see, the client logs now include the current round of federated learning (which they read from the config dictionary). We can also configure local training to run for one epoch during the first and second round of federated learning, and then for two epochs during the third round.\n",
    "\n",
    "Clients can also return arbitrary values to the server. To do so, they return a dictionary from fit and/or evaluate. We have seen and used this concept throughout this notebook without mentioning it explicitly: our FlowerClient returns a dictionary containing a custom key/value pair as the third return value in evaluate.\n",
    "\n",
    "# Scaling federated learning\n",
    "As a last step in this notebook, let’s see how we can use Flower to experiment with a large number of clients."
   ]
  },
  {
   "cell_type": "code",
   "execution_count": 12,
   "id": "41f58ada-b4fd-400a-9276-ae0a3c3f86f6",
   "metadata": {},
   "outputs": [
    {
     "name": "stdout",
     "output_type": "stream",
     "text": [
      "Files already downloaded and verified\n",
      "Files already downloaded and verified\n"
     ]
    }
   ],
   "source": [
    "NUM_CLIENTS = 1000\n",
    "\n",
    "trainloaders, valloaders, testloader = load_datasets(NUM_CLIENTS)"
   ]
  },
  {
   "cell_type": "markdown",
   "id": "d89c31bf-2490-43f3-bf0e-02119e378467",
   "metadata": {},
   "source": [
    "We now have 1000 partitions, each holding 45 training and 5 validation examples. Given that the number of training examples on each client is quite small, we should probably train the model a bit longer, so we configure the clients to perform 3 local training epochs. We should also adjust the fraction of clients selected for training during each round (we don’t want all 1000 clients participating in every round), so we adjust fraction_fit to 0.05, which means that only 5% of available clients (so 50 clients) will be selected for training each round:"
   ]
  },
  {
   "cell_type": "code",
   "execution_count": 13,
   "id": "21419a07-e205-4032-b16f-ef78c4b50e0e",
   "metadata": {},
   "outputs": [
    {
     "name": "stderr",
     "output_type": "stream",
     "text": [
      "INFO flwr 2023-05-23 13:07:22,332 | app.py:146 | Starting Flower simulation, config: ServerConfig(num_rounds=3, round_timeout=None)\n"
     ]
    },
    {
     "name": "stdout",
     "output_type": "stream",
     "text": [
      "\u001b[2m\u001b[36m(launch_and_fit pid=7730)\u001b[0m Epoch 2: train loss 0.047881197184324265, accuracy 0.44533333333333336\u001b[32m [repeated 2x across cluster]\u001b[0m\n",
      "\u001b[2m\u001b[36m(launch_and_evaluate pid=7730)\u001b[0m [Client 2] evaluate, config: {}\u001b[32m [repeated 2x across cluster]\u001b[0m\n"
     ]
    },
    {
     "name": "stderr",
     "output_type": "stream",
     "text": [
      "2023-05-23 13:07:26,174\tINFO worker.py:1625 -- Started a local Ray instance.\n",
      "INFO flwr 2023-05-23 13:07:26,788 | app.py:180 | Flower VCE: Ray initialized with resources: {'node:127.0.0.1': 1.0, 'CPU': 8.0, 'memory': 7935764071.0, 'object_store_memory': 2147483648.0}\n",
      "INFO flwr 2023-05-23 13:07:26,790 | server.py:86 | Initializing global parameters\n",
      "INFO flwr 2023-05-23 13:07:26,790 | server.py:269 | Using initial parameters provided by strategy\n",
      "INFO flwr 2023-05-23 13:07:26,790 | server.py:88 | Evaluating initial parameters\n",
      "INFO flwr 2023-05-23 13:07:26,791 | server.py:101 | FL starting\n",
      "DEBUG flwr 2023-05-23 13:07:26,791 | server.py:218 | fit_round 1: strategy sampled 25 clients (out of 1000)\n"
     ]
    },
    {
     "name": "stdout",
     "output_type": "stream",
     "text": [
      "\u001b[2m\u001b[36m(launch_and_fit pid=7750)\u001b[0m [Client 275, round 1] fit, config: {'server_round': 1, 'local_epochs': 3}\n",
      "\u001b[2m\u001b[36m(launch_and_fit pid=7753)\u001b[0m Epoch 1: train loss 0.10210651904344559, accuracy 0.1111111111111111\n",
      "\u001b[2m\u001b[36m(launch_and_fit pid=7753)\u001b[0m [Client 208, round 1] fit, config: {'server_round': 1, 'local_epochs': 3}\u001b[32m [repeated 5x across cluster]\u001b[0m\n"
     ]
    },
    {
     "name": "stderr",
     "output_type": "stream",
     "text": [
      "\u001b[2m\u001b[36m(raylet)\u001b[0m Spilled 2801 MiB, 32 objects, write throughput 1269 MiB/s. Set RAY_verbose_spill_logs=0 to disable this message.\n",
      "DEBUG flwr 2023-05-23 13:07:43,845 | server.py:232 | fit_round 1 received 25 results and 0 failures\n",
      "WARNING flwr 2023-05-23 13:07:43,867 | fedavg.py:243 | No fit_metrics_aggregation_fn provided\n",
      "DEBUG flwr 2023-05-23 13:07:43,868 | server.py:168 | evaluate_round 1: strategy sampled 50 clients (out of 1000)\n"
     ]
    },
    {
     "name": "stdout",
     "output_type": "stream",
     "text": [
      "\u001b[2m\u001b[36m(launch_and_evaluate pid=7747)\u001b[0m [Client 717] evaluate, config: {}\n",
      "\u001b[2m\u001b[36m(launch_and_fit pid=7752)\u001b[0m Epoch 3: train loss 0.10181637108325958, accuracy 0.15555555555555556\u001b[32m [repeated 74x across cluster]\u001b[0m\n",
      "\u001b[2m\u001b[36m(launch_and_fit pid=7747)\u001b[0m [Client 273, round 1] fit, config: {'server_round': 1, 'local_epochs': 3}\u001b[32m [repeated 19x across cluster]\u001b[0m\n",
      "\u001b[2m\u001b[36m(launch_and_evaluate pid=7747)\u001b[0m [Client 144] evaluate, config: {}\n",
      "\u001b[2m\u001b[36m(launch_and_evaluate pid=7749)\u001b[0m [Client 116] evaluate, config: {}\n",
      "\u001b[2m\u001b[36m(launch_and_evaluate pid=7752)\u001b[0m [Client 157] evaluate, config: {}\n",
      "\u001b[2m\u001b[36m(launch_and_evaluate pid=7752)\u001b[0m [Client 492] evaluate, config: {}\n",
      "\u001b[2m\u001b[36m(launch_and_evaluate pid=7752)\u001b[0m [Client 616] evaluate, config: {}\n",
      "\u001b[2m\u001b[36m(launch_and_evaluate pid=7747)\u001b[0m [Client 633] evaluate, config: {}\u001b[32m [repeated 14x across cluster]\u001b[0m\n",
      "\u001b[2m\u001b[36m(launch_and_evaluate pid=7754)\u001b[0m [Client 722] evaluate, config: {}\u001b[32m [repeated 7x across cluster]\u001b[0m\n"
     ]
    },
    {
     "name": "stderr",
     "output_type": "stream",
     "text": [
      "DEBUG flwr 2023-05-23 13:08:11,519 | server.py:182 | evaluate_round 1 received 50 results and 0 failures\n",
      "WARNING flwr 2023-05-23 13:08:11,520 | fedavg.py:274 | No evaluate_metrics_aggregation_fn provided\n",
      "DEBUG flwr 2023-05-23 13:08:11,520 | server.py:218 | fit_round 2: strategy sampled 25 clients (out of 1000)\n"
     ]
    },
    {
     "name": "stdout",
     "output_type": "stream",
     "text": [
      "\u001b[2m\u001b[36m(launch_and_evaluate pid=7750)\u001b[0m [Client 9] evaluate, config: {}\u001b[32m [repeated 17x across cluster]\u001b[0m\n",
      "\u001b[2m\u001b[36m(launch_and_fit pid=7747)\u001b[0m [Client 412, round 2] fit, config: {'server_round': 2, 'local_epochs': 3}\n",
      "\u001b[2m\u001b[36m(launch_and_fit pid=7747)\u001b[0m Epoch 1: train loss 0.10265219211578369, accuracy 0.15555555555555556\n",
      "\u001b[2m\u001b[36m(launch_and_fit pid=7747)\u001b[0m Epoch 2: train loss 0.10128385573625565, accuracy 0.24444444444444444\n",
      "\u001b[2m\u001b[36m(launch_and_fit pid=7747)\u001b[0m Epoch 3: train loss 0.10030465573072433, accuracy 0.26666666666666666\n",
      "\u001b[2m\u001b[36m(launch_and_fit pid=7747)\u001b[0m [Client 958, round 2] fit, config: {'server_round': 2, 'local_epochs': 3}\n",
      "\u001b[2m\u001b[36m(launch_and_fit pid=7747)\u001b[0m Epoch 1: train loss 0.10269943624734879, accuracy 0.08888888888888889\n",
      "\u001b[2m\u001b[36m(launch_and_fit pid=7747)\u001b[0m Epoch 2: train loss 0.10125084221363068, accuracy 0.17777777777777778\n",
      "\u001b[2m\u001b[36m(launch_and_fit pid=7747)\u001b[0m Epoch 3: train loss 0.10079773515462875, accuracy 0.15555555555555556\n",
      "\u001b[2m\u001b[36m(launch_and_evaluate pid=7752)\u001b[0m [Client 266] evaluate, config: {}\u001b[32m [repeated 6x across cluster]\u001b[0m\n",
      "\u001b[2m\u001b[36m(launch_and_fit pid=7750)\u001b[0m Epoch 1: train loss 0.1019253060221672, accuracy 0.15555555555555556\n",
      "\u001b[2m\u001b[36m(launch_and_fit pid=7750)\u001b[0m Epoch 1: train loss 0.1019253060221672, accuracy 0.15555555555555556\n",
      "\u001b[2m\u001b[36m(launch_and_fit pid=7749)\u001b[0m [Client 858, round 2] fit, config: {'server_round': 2, 'local_epochs': 3}\n",
      "\u001b[2m\u001b[36m(launch_and_fit pid=7749)\u001b[0m Epoch 1: train loss 0.1015213131904602, accuracy 0.15555555555555556\n",
      "\u001b[2m\u001b[36m(launch_and_fit pid=7749)\u001b[0m Epoch 2: train loss 0.10083798319101334, accuracy 0.24444444444444444\n"
     ]
    },
    {
     "name": "stderr",
     "output_type": "stream",
     "text": [
      "\u001b[2m\u001b[36m(raylet)\u001b[0m Spilled 4718 MiB, 53 objects, write throughput 1412 MiB/s.\n",
      "DEBUG flwr 2023-05-23 13:08:25,605 | server.py:232 | fit_round 2 received 25 results and 0 failures\n",
      "DEBUG flwr 2023-05-23 13:08:25,624 | server.py:168 | evaluate_round 2: strategy sampled 50 clients (out of 1000)\n"
     ]
    },
    {
     "name": "stdout",
     "output_type": "stream",
     "text": [
      "\u001b[2m\u001b[36m(launch_and_evaluate pid=7748)\u001b[0m [Client 499] evaluate, config: {}\n",
      "\u001b[2m\u001b[36m(launch_and_fit pid=7749)\u001b[0m [Client 637, round 2] fit, config: {'server_round': 2, 'local_epochs': 3}\u001b[32m [repeated 21x across cluster]\u001b[0m\n",
      "\u001b[2m\u001b[36m(launch_and_fit pid=7747)\u001b[0m Epoch 3: train loss 0.099659264087677, accuracy 0.17777777777777778\u001b[32m [repeated 66x across cluster]\u001b[0m\n",
      "\u001b[2m\u001b[36m(launch_and_evaluate pid=7748)\u001b[0m [Client 261] evaluate, config: {}\u001b[32m [repeated 2x across cluster]\u001b[0m\n",
      "\u001b[2m\u001b[36m(launch_and_evaluate pid=7751)\u001b[0m [Client 127] evaluate, config: {}\u001b[32m [repeated 14x across cluster]\u001b[0m\n",
      "\u001b[2m\u001b[36m(launch_and_evaluate pid=7747)\u001b[0m [Client 336] evaluate, config: {}\u001b[32m [repeated 11x across cluster]\u001b[0m\n"
     ]
    },
    {
     "name": "stderr",
     "output_type": "stream",
     "text": [
      "DEBUG flwr 2023-05-23 13:08:54,585 | server.py:182 | evaluate_round 2 received 50 results and 0 failures\n",
      "DEBUG flwr 2023-05-23 13:08:54,586 | server.py:218 | fit_round 3: strategy sampled 25 clients (out of 1000)\n"
     ]
    },
    {
     "name": "stdout",
     "output_type": "stream",
     "text": [
      "\u001b[2m\u001b[36m(launch_and_fit pid=7752)\u001b[0m [Client 914, round 3] fit, config: {'server_round': 3, 'local_epochs': 3}\n",
      "\u001b[2m\u001b[36m(launch_and_fit pid=7752)\u001b[0m Epoch 1: train loss 0.1014876440167427, accuracy 0.24444444444444444\n",
      "\u001b[2m\u001b[36m(launch_and_fit pid=7752)\u001b[0m Epoch 2: train loss 0.09928058832883835, accuracy 0.24444444444444444\n",
      "\u001b[2m\u001b[36m(launch_and_evaluate pid=7752)\u001b[0m [Client 236] evaluate, config: {}\u001b[32m [repeated 22x across cluster]\u001b[0m\n",
      "\u001b[2m\u001b[36m(launch_and_fit pid=7752)\u001b[0m [Client 954, round 3] fit, config: {'server_round': 3, 'local_epochs': 3}\u001b[32m [repeated 5x across cluster]\u001b[0m\n",
      "\u001b[2m\u001b[36m(launch_and_fit pid=7750)\u001b[0m Epoch 3: train loss 0.0975508987903595, accuracy 0.28888888888888886\u001b[32m [repeated 13x across cluster]\u001b[0m\n"
     ]
    },
    {
     "name": "stderr",
     "output_type": "stream",
     "text": [
      "DEBUG flwr 2023-05-23 13:09:08,655 | server.py:232 | fit_round 3 received 25 results and 0 failures\n",
      "DEBUG flwr 2023-05-23 13:09:08,675 | server.py:168 | evaluate_round 3: strategy sampled 50 clients (out of 1000)\n"
     ]
    },
    {
     "name": "stdout",
     "output_type": "stream",
     "text": [
      "\u001b[2m\u001b[36m(launch_and_evaluate pid=7751)\u001b[0m [Client 251] evaluate, config: {}\n",
      "\u001b[2m\u001b[36m(launch_and_fit pid=7751)\u001b[0m [Client 303, round 3] fit, config: {'server_round': 3, 'local_epochs': 3}\u001b[32m [repeated 19x across cluster]\u001b[0m\n",
      "\u001b[2m\u001b[36m(launch_and_fit pid=7751)\u001b[0m Epoch 3: train loss 0.09924256801605225, accuracy 0.26666666666666666\u001b[32m [repeated 60x across cluster]\u001b[0m\n",
      "\u001b[2m\u001b[36m(launch_and_evaluate pid=7751)\u001b[0m [Client 328] evaluate, config: {}\n",
      "\u001b[2m\u001b[36m(launch_and_evaluate pid=7751)\u001b[0m [Client 560] evaluate, config: {}\n",
      "\u001b[2m\u001b[36m(launch_and_evaluate pid=7751)\u001b[0m [Client 507] evaluate, config: {}\n",
      "\u001b[2m\u001b[36m(launch_and_evaluate pid=7751)\u001b[0m [Client 122] evaluate, config: {}\n",
      "\u001b[2m\u001b[36m(launch_and_evaluate pid=7751)\u001b[0m [Client 753] evaluate, config: {}\n",
      "\u001b[2m\u001b[36m(launch_and_evaluate pid=7753)\u001b[0m [Client 803] evaluate, config: {}\u001b[32m [repeated 7x across cluster]\u001b[0m\n",
      "\u001b[2m\u001b[36m(launch_and_evaluate pid=7752)\u001b[0m [Client 420] evaluate, config: {}\u001b[32m [repeated 13x across cluster]\u001b[0m\n"
     ]
    },
    {
     "name": "stderr",
     "output_type": "stream",
     "text": [
      "\u001b[2m\u001b[36m(raylet)\u001b[0m Spilled 8254 MiB, 83 objects, write throughput 1720 MiB/s.\n",
      "DEBUG flwr 2023-05-23 13:09:36,307 | server.py:182 | evaluate_round 3 received 50 results and 0 failures\n",
      "INFO flwr 2023-05-23 13:09:36,307 | server.py:147 | FL finished in 129.51526524999645\n",
      "INFO flwr 2023-05-23 13:09:36,307 | app.py:218 | app_fit: losses_distributed [(1, 0.45949037551879895), (2, 0.45577912521362296), (3, 0.4533768520355224)]\n",
      "INFO flwr 2023-05-23 13:09:36,308 | app.py:219 | app_fit: metrics_distributed_fit {}\n",
      "INFO flwr 2023-05-23 13:09:36,308 | app.py:220 | app_fit: metrics_distributed {}\n",
      "INFO flwr 2023-05-23 13:09:36,308 | app.py:221 | app_fit: losses_centralized []\n",
      "INFO flwr 2023-05-23 13:09:36,308 | app.py:222 | app_fit: metrics_centralized {}\n"
     ]
    },
    {
     "name": "stdout",
     "output_type": "stream",
     "text": [
      "\u001b[2m\u001b[36m(launch_and_evaluate pid=7753)\u001b[0m [Client 528] evaluate, config: {}\u001b[32m [repeated 19x across cluster]\u001b[0m\n"
     ]
    },
    {
     "data": {
      "text/plain": [
       "History (loss, distributed):\n",
       "\tround 1: 0.45949037551879895\n",
       "\tround 2: 0.45577912521362296\n",
       "\tround 3: 0.4533768520355224"
      ]
     },
     "execution_count": 13,
     "metadata": {},
     "output_type": "execute_result"
    }
   ],
   "source": [
    "def fit_config(server_round: int):\n",
    "    config = {\n",
    "        \"server_round\": server_round,\n",
    "        \"local_epochs\": 3,\n",
    "    }\n",
    "    return config\n",
    "\n",
    "\n",
    "strategy = fl.server.strategy.FedAvg(\n",
    "    fraction_fit=0.025,  # Train on 25 clients (each round)\n",
    "    fraction_evaluate=0.05,  # Evaluate on 50 clients (each round)\n",
    "    min_fit_clients=20,\n",
    "    min_evaluate_clients=40,\n",
    "    min_available_clients=NUM_CLIENTS,\n",
    "    initial_parameters=fl.common.ndarrays_to_parameters(get_parameters(Net())),\n",
    "    on_fit_config_fn=fit_config,\n",
    ")\n",
    "\n",
    "fl.simulation.start_simulation(\n",
    "    client_fn=client_fn,\n",
    "    num_clients=NUM_CLIENTS,\n",
    "    config=fl.server.ServerConfig(num_rounds=3),  # Just three rounds\n",
    "    strategy=strategy,\n",
    "    client_resources=client_resources,\n",
    ")"
   ]
  },
  {
   "cell_type": "code",
   "execution_count": null,
   "id": "6345e009-ffe9-42a6-b88b-2a60c6ac07a3",
   "metadata": {},
   "outputs": [],
   "source": []
  }
 ],
 "metadata": {
  "kernelspec": {
   "display_name": "Python 3 (ipykernel)",
   "language": "python",
   "name": "python3"
  },
  "language_info": {
   "codemirror_mode": {
    "name": "ipython",
    "version": 3
   },
   "file_extension": ".py",
   "mimetype": "text/x-python",
   "name": "python",
   "nbconvert_exporter": "python",
   "pygments_lexer": "ipython3",
   "version": "3.10.10"
  }
 },
 "nbformat": 4,
 "nbformat_minor": 5
}
