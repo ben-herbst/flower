{
 "cells": [
  {
   "cell_type": "code",
   "execution_count": 1,
   "id": "4c922685-ae43-4a63-99e2-9a21b67a0aea",
   "metadata": {},
   "outputs": [],
   "source": [
    "# Large Prime Generation for RSA.\n",
    "# See https://www.geeksforgeeks.org/how-to-generate-large-prime-numbers-for-rsa-algorithm/\n",
    "import random\n",
    "\n",
    "# Pre generated primes\n",
    "first_primes_list = [\n",
    "    2,\n",
    "    3,\n",
    "    5,\n",
    "    7,\n",
    "    11,\n",
    "    13,\n",
    "    17,\n",
    "    19,\n",
    "    23,\n",
    "    29,\n",
    "    31,\n",
    "    37,\n",
    "    41,\n",
    "    43,\n",
    "    47,\n",
    "    53,\n",
    "    59,\n",
    "    61,\n",
    "    67,\n",
    "    71,\n",
    "    73,\n",
    "    79,\n",
    "    83,\n",
    "    89,\n",
    "    97,\n",
    "    101,\n",
    "    103,\n",
    "    107,\n",
    "    109,\n",
    "    113,\n",
    "    127,\n",
    "    131,\n",
    "    137,\n",
    "    139,\n",
    "    149,\n",
    "    151,\n",
    "    157,\n",
    "    163,\n",
    "    167,\n",
    "    173,\n",
    "    179,\n",
    "    181,\n",
    "    191,\n",
    "    193,\n",
    "    197,\n",
    "    199,\n",
    "    211,\n",
    "    223,\n",
    "    227,\n",
    "    229,\n",
    "    233,\n",
    "    239,\n",
    "    241,\n",
    "    251,\n",
    "    257,\n",
    "    263,\n",
    "    269,\n",
    "    271,\n",
    "    277,\n",
    "    281,\n",
    "    283,\n",
    "    293,\n",
    "    307,\n",
    "    311,\n",
    "    313,\n",
    "    317,\n",
    "    331,\n",
    "    337,\n",
    "    347,\n",
    "    349,\n",
    "]\n",
    "\n",
    "\n",
    "def nBitRandom(n):\n",
    "    return random.randrange(2 ** (n - 1) + 1, 2**n - 1)\n",
    "\n",
    "\n",
    "def getLowLevelPrime(n):\n",
    "    \"\"\"Generate a prime candidate divisible\n",
    "    by first primes\"\"\"\n",
    "    while True:\n",
    "        # Obtain a random number\n",
    "        pc = nBitRandom(n)\n",
    "\n",
    "        # Test divisibility by pre-generated\n",
    "        # primes\n",
    "        for divisor in first_primes_list:\n",
    "            if pc % divisor == 0 and divisor**2 <= pc:\n",
    "                break\n",
    "        else:\n",
    "            return pc\n",
    "\n",
    "\n",
    "def isMillerRabinPassed(mrc):\n",
    "    \"\"\"Run 20 iterations of Rabin Miller Primality test\"\"\"\n",
    "    maxDivisionsByTwo = 0\n",
    "    ec = mrc - 1\n",
    "    while ec % 2 == 0:\n",
    "        ec >>= 1\n",
    "        maxDivisionsByTwo += 1\n",
    "    assert 2**maxDivisionsByTwo * ec == mrc - 1\n",
    "\n",
    "    def trialComposite(round_tester):\n",
    "        if pow(round_tester, ec, mrc) == 1:\n",
    "            return False\n",
    "        for i in range(maxDivisionsByTwo):\n",
    "            if pow(round_tester, 2**i * ec, mrc) == mrc - 1:\n",
    "                return False\n",
    "        return True\n",
    "\n",
    "    # Set number of trials here\n",
    "    numberOfRabinTrials = 20\n",
    "    for i in range(numberOfRabinTrials):\n",
    "        round_tester = random.randrange(2, mrc)\n",
    "        if trialComposite(round_tester):\n",
    "            return False\n",
    "    return True\n",
    "\n",
    "\n",
    "def gen_prime(n):\n",
    "    \"\"\"\n",
    "    Generate n bit prime\n",
    "    \"\"\"\n",
    "    while True:\n",
    "        prime_candidate = getLowLevelPrime(n)\n",
    "        if isMillerRabinPassed(prime_candidate):\n",
    "            return prime_candidate\n",
    "        else:\n",
    "            continue"
   ]
  },
  {
   "cell_type": "code",
   "execution_count": 2,
   "id": "9f258a95-338e-4c07-b357-0db06b68181a",
   "metadata": {},
   "outputs": [],
   "source": [
    "# Private key\n",
    "\n",
    "# p = 2431950869 # gen_prime(32)\n",
    "# q = 2216610439 # gen_prime(32)\n",
    "\n",
    "phi = (p - 1) * (q - 1)\n",
    "\n",
    "# Public key\n",
    "n = p * q\n",
    "e = 11  # Arbitrary prime"
   ]
  },
  {
   "cell_type": "code",
   "execution_count": 3,
   "id": "b67a1eb0-0db1-460b-8ec5-789cbeaa1caa",
   "metadata": {},
   "outputs": [],
   "source": [
    "# Plain text\n",
    "m = 6873827579  # 'DIRKO'"
   ]
  },
  {
   "cell_type": "code",
   "execution_count": 4,
   "id": "5158cdd9-5207-4112-a4dd-5bbd17d9f089",
   "metadata": {},
   "outputs": [
    {
     "data": {
      "text/plain": [
       "5649096224803216442"
      ]
     },
     "execution_count": 4,
     "metadata": {},
     "output_type": "execute_result"
    }
   ],
   "source": [
    "# Encryption\n",
    "encr = pow(m, e, n)\n",
    "encr"
   ]
  },
  {
   "cell_type": "code",
   "execution_count": 5,
   "id": "29c2ae2e-774f-4958-8b7d-d2ff712a299b",
   "metadata": {},
   "outputs": [
    {
     "data": {
      "text/plain": [
       "5875236427867733291"
      ]
     },
     "execution_count": 5,
     "metadata": {},
     "output_type": "execute_result"
    }
   ],
   "source": [
    "# Modular inverse. This requires the private key\n",
    "f = pow(e, -1, phi)\n",
    "f"
   ]
  },
  {
   "cell_type": "code",
   "execution_count": 6,
   "id": "208b0b5e-5559-41e5-9bfb-9888a7c26b5d",
   "metadata": {},
   "outputs": [
    {
     "data": {
      "text/plain": [
       "6873827579"
      ]
     },
     "execution_count": 6,
     "metadata": {},
     "output_type": "execute_result"
    }
   ],
   "source": [
    "# Note that the exponent, encr**f, is not explicitly calculated.\n",
    "# This is hard and the value is only required (mod n), which is easy.\n",
    "\n",
    "decypher = pow(encr, f, n)\n",
    "decypher"
   ]
  },
  {
   "cell_type": "code",
   "execution_count": null,
   "id": "95898174-0935-4c0f-9feb-24e665f685d5",
   "metadata": {},
   "outputs": [],
   "source": []
  }
 ],
 "metadata": {
  "kernelspec": {
   "display_name": "Python 3 (ipykernel)",
   "language": "python",
   "name": "python3"
  },
  "language_info": {
   "codemirror_mode": {
    "name": "ipython",
    "version": 3
   },
   "file_extension": ".py",
   "mimetype": "text/x-python",
   "name": "python",
   "nbconvert_exporter": "python",
   "pygments_lexer": "ipython3",
   "version": "3.10.10"
  }
 },
 "nbformat": 4,
 "nbformat_minor": 5
}
